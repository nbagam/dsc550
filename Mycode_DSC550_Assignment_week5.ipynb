{
 "cells": [
  {
   "cell_type": "code",
   "execution_count": 41,
   "id": "734f0a2c",
   "metadata": {},
   "outputs": [],
   "source": [
    "# Load Required Libraries\n",
    "\n",
    "import pandas as pd\n",
    "import numpy as np\n",
    "from sklearn.model_selection import train_test_split #to split the training and testing data\n",
    "import nltk\n",
    "from nltk.corpus import stopwords\n",
    "from nltk.tokenize import word_tokenize\n",
    "from nltk.stem import PorterStemmer\n",
    "from sklearn.feature_extraction.text import CountVectorizer\n",
    "import pickle\n",
    "import string\n",
    "from bs4 import BeautifulSoup \n",
    "import re\n",
    "import seaborn as sn\n",
    "import matplotlib.pyplot as plt\n",
    "from sklearn.linear_model import LogisticRegression\n",
    "from sklearn import metrics\n",
    "from sklearn.metrics import roc_curve\n",
    "from sklearn.ensemble import RandomForestClassifier\n",
    "from sklearn.model_selection import train_test_split, GridSearchCV\n",
    "from sklearn.naive_bayes import MultinomialNB\n",
    "from sklearn.naive_bayes import BernoulliNB"
   ]
  },
  {
   "cell_type": "markdown",
   "id": "9fa91870",
   "metadata": {},
   "source": [
    "# 1) Get the stemmed data using the same process you did in Week 3."
   ]
  },
  {
   "cell_type": "markdown",
   "id": "d309a7b1",
   "metadata": {},
   "source": [
    "    1) Import the movie review data as a data frame and ensure that the data is loaded properly."
   ]
  },
  {
   "cell_type": "code",
   "execution_count": 2,
   "id": "57689c52",
   "metadata": {},
   "outputs": [],
   "source": [
    "# Read movie data tsv file \n",
    "movie_data=pd.read_csv('labeledTrainData.tsv',sep='\\t')"
   ]
  },
  {
   "cell_type": "code",
   "execution_count": 3,
   "id": "0084df61",
   "metadata": {},
   "outputs": [
    {
     "data": {
      "text/html": [
       "<div>\n",
       "<style scoped>\n",
       "    .dataframe tbody tr th:only-of-type {\n",
       "        vertical-align: middle;\n",
       "    }\n",
       "\n",
       "    .dataframe tbody tr th {\n",
       "        vertical-align: top;\n",
       "    }\n",
       "\n",
       "    .dataframe thead th {\n",
       "        text-align: right;\n",
       "    }\n",
       "</style>\n",
       "<table border=\"1\" class=\"dataframe\">\n",
       "  <thead>\n",
       "    <tr style=\"text-align: right;\">\n",
       "      <th></th>\n",
       "      <th>id</th>\n",
       "      <th>sentiment</th>\n",
       "      <th>review</th>\n",
       "    </tr>\n",
       "  </thead>\n",
       "  <tbody>\n",
       "    <tr>\n",
       "      <th>0</th>\n",
       "      <td>5814_8</td>\n",
       "      <td>1</td>\n",
       "      <td>With all this stuff going down at the moment w...</td>\n",
       "    </tr>\n",
       "    <tr>\n",
       "      <th>1</th>\n",
       "      <td>2381_9</td>\n",
       "      <td>1</td>\n",
       "      <td>\\The Classic War of the Worlds\\\" by Timothy Hi...</td>\n",
       "    </tr>\n",
       "    <tr>\n",
       "      <th>2</th>\n",
       "      <td>7759_3</td>\n",
       "      <td>0</td>\n",
       "      <td>The film starts with a manager (Nicholas Bell)...</td>\n",
       "    </tr>\n",
       "    <tr>\n",
       "      <th>3</th>\n",
       "      <td>3630_4</td>\n",
       "      <td>0</td>\n",
       "      <td>It must be assumed that those who praised this...</td>\n",
       "    </tr>\n",
       "    <tr>\n",
       "      <th>4</th>\n",
       "      <td>9495_8</td>\n",
       "      <td>1</td>\n",
       "      <td>Superbly trashy and wondrously unpretentious 8...</td>\n",
       "    </tr>\n",
       "  </tbody>\n",
       "</table>\n",
       "</div>"
      ],
      "text/plain": [
       "       id  sentiment                                             review\n",
       "0  5814_8          1  With all this stuff going down at the moment w...\n",
       "1  2381_9          1  \\The Classic War of the Worlds\\\" by Timothy Hi...\n",
       "2  7759_3          0  The film starts with a manager (Nicholas Bell)...\n",
       "3  3630_4          0  It must be assumed that those who praised this...\n",
       "4  9495_8          1  Superbly trashy and wondrously unpretentious 8..."
      ]
     },
     "execution_count": 3,
     "metadata": {},
     "output_type": "execute_result"
    }
   ],
   "source": [
    "movie_data.head()"
   ]
  },
  {
   "cell_type": "markdown",
   "id": "8eaaf971",
   "metadata": {},
   "source": [
    "    2) How many of each positive and negative reviews are there?"
   ]
  },
  {
   "cell_type": "code",
   "execution_count": 4,
   "id": "7f15c98e",
   "metadata": {},
   "outputs": [
    {
     "data": {
      "text/plain": [
       "sentiment\n",
       "0    12500\n",
       "1    12500\n",
       "Name: sentiment, dtype: int64"
      ]
     },
     "execution_count": 4,
     "metadata": {},
     "output_type": "execute_result"
    }
   ],
   "source": [
    "movie_data.groupby('sentiment')['sentiment'].count()"
   ]
  },
  {
   "cell_type": "markdown",
   "id": "200d3454",
   "metadata": {},
   "source": [
    "   3) Convert all text to lowercase letters."
   ]
  },
  {
   "cell_type": "code",
   "execution_count": 5,
   "id": "cb2824ab",
   "metadata": {
    "scrolled": true
   },
   "outputs": [],
   "source": [
    "movie_data['cleaned_review'] = movie_data['review'].str.lower()"
   ]
  },
  {
   "cell_type": "markdown",
   "id": "327a7d72",
   "metadata": {},
   "source": [
    "    4) Remove punctuation and special characters from the text."
   ]
  },
  {
   "cell_type": "code",
   "execution_count": 6,
   "id": "896acc44",
   "metadata": {},
   "outputs": [],
   "source": [
    "# Removing punctuations\n",
    "\n",
    "movie_data['cleaned_review'] = movie_data['cleaned_review'].apply(lambda snti: snti.translate(str.maketrans('', '', string.punctuation)))       \n",
    "                                            "
   ]
  },
  {
   "cell_type": "code",
   "execution_count": 7,
   "id": "f6a9acca",
   "metadata": {},
   "outputs": [
    {
     "data": {
      "text/html": [
       "<div>\n",
       "<style scoped>\n",
       "    .dataframe tbody tr th:only-of-type {\n",
       "        vertical-align: middle;\n",
       "    }\n",
       "\n",
       "    .dataframe tbody tr th {\n",
       "        vertical-align: top;\n",
       "    }\n",
       "\n",
       "    .dataframe thead th {\n",
       "        text-align: right;\n",
       "    }\n",
       "</style>\n",
       "<table border=\"1\" class=\"dataframe\">\n",
       "  <thead>\n",
       "    <tr style=\"text-align: right;\">\n",
       "      <th></th>\n",
       "      <th>id</th>\n",
       "      <th>sentiment</th>\n",
       "      <th>review</th>\n",
       "      <th>cleaned_review</th>\n",
       "    </tr>\n",
       "  </thead>\n",
       "  <tbody>\n",
       "    <tr>\n",
       "      <th>0</th>\n",
       "      <td>5814_8</td>\n",
       "      <td>1</td>\n",
       "      <td>With all this stuff going down at the moment w...</td>\n",
       "      <td>with all this stuff going down at the moment w...</td>\n",
       "    </tr>\n",
       "    <tr>\n",
       "      <th>1</th>\n",
       "      <td>2381_9</td>\n",
       "      <td>1</td>\n",
       "      <td>\\The Classic War of the Worlds\\\" by Timothy Hi...</td>\n",
       "      <td>the classic war of the worlds by timothy hines...</td>\n",
       "    </tr>\n",
       "    <tr>\n",
       "      <th>2</th>\n",
       "      <td>7759_3</td>\n",
       "      <td>0</td>\n",
       "      <td>The film starts with a manager (Nicholas Bell)...</td>\n",
       "      <td>the film starts with a manager nicholas bell g...</td>\n",
       "    </tr>\n",
       "    <tr>\n",
       "      <th>3</th>\n",
       "      <td>3630_4</td>\n",
       "      <td>0</td>\n",
       "      <td>It must be assumed that those who praised this...</td>\n",
       "      <td>it must be assumed that those who praised this...</td>\n",
       "    </tr>\n",
       "    <tr>\n",
       "      <th>4</th>\n",
       "      <td>9495_8</td>\n",
       "      <td>1</td>\n",
       "      <td>Superbly trashy and wondrously unpretentious 8...</td>\n",
       "      <td>superbly trashy and wondrously unpretentious 8...</td>\n",
       "    </tr>\n",
       "    <tr>\n",
       "      <th>...</th>\n",
       "      <td>...</td>\n",
       "      <td>...</td>\n",
       "      <td>...</td>\n",
       "      <td>...</td>\n",
       "    </tr>\n",
       "    <tr>\n",
       "      <th>24995</th>\n",
       "      <td>3453_3</td>\n",
       "      <td>0</td>\n",
       "      <td>It seems like more consideration has gone into...</td>\n",
       "      <td>it seems like more consideration has gone into...</td>\n",
       "    </tr>\n",
       "    <tr>\n",
       "      <th>24996</th>\n",
       "      <td>5064_1</td>\n",
       "      <td>0</td>\n",
       "      <td>I don't believe they made this film. Completel...</td>\n",
       "      <td>i dont believe they made this film completely ...</td>\n",
       "    </tr>\n",
       "    <tr>\n",
       "      <th>24997</th>\n",
       "      <td>10905_3</td>\n",
       "      <td>0</td>\n",
       "      <td>Guy is a loser. Can't get girls, needs to buil...</td>\n",
       "      <td>guy is a loser cant get girls needs to build u...</td>\n",
       "    </tr>\n",
       "    <tr>\n",
       "      <th>24998</th>\n",
       "      <td>10194_3</td>\n",
       "      <td>0</td>\n",
       "      <td>This 30 minute documentary Buñuel made in the ...</td>\n",
       "      <td>this 30 minute documentary buñuel made in the ...</td>\n",
       "    </tr>\n",
       "    <tr>\n",
       "      <th>24999</th>\n",
       "      <td>8478_8</td>\n",
       "      <td>1</td>\n",
       "      <td>I saw this movie as a child and it broke my he...</td>\n",
       "      <td>i saw this movie as a child and it broke my he...</td>\n",
       "    </tr>\n",
       "  </tbody>\n",
       "</table>\n",
       "<p>25000 rows × 4 columns</p>\n",
       "</div>"
      ],
      "text/plain": [
       "            id  sentiment                                             review  \\\n",
       "0       5814_8          1  With all this stuff going down at the moment w...   \n",
       "1       2381_9          1  \\The Classic War of the Worlds\\\" by Timothy Hi...   \n",
       "2       7759_3          0  The film starts with a manager (Nicholas Bell)...   \n",
       "3       3630_4          0  It must be assumed that those who praised this...   \n",
       "4       9495_8          1  Superbly trashy and wondrously unpretentious 8...   \n",
       "...        ...        ...                                                ...   \n",
       "24995   3453_3          0  It seems like more consideration has gone into...   \n",
       "24996   5064_1          0  I don't believe they made this film. Completel...   \n",
       "24997  10905_3          0  Guy is a loser. Can't get girls, needs to buil...   \n",
       "24998  10194_3          0  This 30 minute documentary Buñuel made in the ...   \n",
       "24999   8478_8          1  I saw this movie as a child and it broke my he...   \n",
       "\n",
       "                                          cleaned_review  \n",
       "0      with all this stuff going down at the moment w...  \n",
       "1      the classic war of the worlds by timothy hines...  \n",
       "2      the film starts with a manager nicholas bell g...  \n",
       "3      it must be assumed that those who praised this...  \n",
       "4      superbly trashy and wondrously unpretentious 8...  \n",
       "...                                                  ...  \n",
       "24995  it seems like more consideration has gone into...  \n",
       "24996  i dont believe they made this film completely ...  \n",
       "24997  guy is a loser cant get girls needs to build u...  \n",
       "24998  this 30 minute documentary buñuel made in the ...  \n",
       "24999  i saw this movie as a child and it broke my he...  \n",
       "\n",
       "[25000 rows x 4 columns]"
      ]
     },
     "execution_count": 7,
     "metadata": {},
     "output_type": "execute_result"
    }
   ],
   "source": [
    "# Display data after removing punctuations\n",
    "movie_data"
   ]
  },
  {
   "cell_type": "code",
   "execution_count": 8,
   "id": "be1c5a73",
   "metadata": {},
   "outputs": [],
   "source": [
    "# Remove special characters from the string\n",
    "pattern = r'[^A-Za-z0-9]+'\n",
    "movie_data['cleaned_review'] = movie_data['cleaned_review'].apply(lambda snti: re.sub(pattern, \" \", snti))  "
   ]
  },
  {
   "cell_type": "code",
   "execution_count": 9,
   "id": "dfadc2f4",
   "metadata": {},
   "outputs": [
    {
     "data": {
      "text/html": [
       "<div>\n",
       "<style scoped>\n",
       "    .dataframe tbody tr th:only-of-type {\n",
       "        vertical-align: middle;\n",
       "    }\n",
       "\n",
       "    .dataframe tbody tr th {\n",
       "        vertical-align: top;\n",
       "    }\n",
       "\n",
       "    .dataframe thead th {\n",
       "        text-align: right;\n",
       "    }\n",
       "</style>\n",
       "<table border=\"1\" class=\"dataframe\">\n",
       "  <thead>\n",
       "    <tr style=\"text-align: right;\">\n",
       "      <th></th>\n",
       "      <th>id</th>\n",
       "      <th>sentiment</th>\n",
       "      <th>review</th>\n",
       "      <th>cleaned_review</th>\n",
       "    </tr>\n",
       "  </thead>\n",
       "  <tbody>\n",
       "    <tr>\n",
       "      <th>0</th>\n",
       "      <td>5814_8</td>\n",
       "      <td>1</td>\n",
       "      <td>With all this stuff going down at the moment w...</td>\n",
       "      <td>with all this stuff going down at the moment w...</td>\n",
       "    </tr>\n",
       "    <tr>\n",
       "      <th>1</th>\n",
       "      <td>2381_9</td>\n",
       "      <td>1</td>\n",
       "      <td>\\The Classic War of the Worlds\\\" by Timothy Hi...</td>\n",
       "      <td>the classic war of the worlds by timothy hines...</td>\n",
       "    </tr>\n",
       "    <tr>\n",
       "      <th>2</th>\n",
       "      <td>7759_3</td>\n",
       "      <td>0</td>\n",
       "      <td>The film starts with a manager (Nicholas Bell)...</td>\n",
       "      <td>the film starts with a manager nicholas bell g...</td>\n",
       "    </tr>\n",
       "    <tr>\n",
       "      <th>3</th>\n",
       "      <td>3630_4</td>\n",
       "      <td>0</td>\n",
       "      <td>It must be assumed that those who praised this...</td>\n",
       "      <td>it must be assumed that those who praised this...</td>\n",
       "    </tr>\n",
       "    <tr>\n",
       "      <th>4</th>\n",
       "      <td>9495_8</td>\n",
       "      <td>1</td>\n",
       "      <td>Superbly trashy and wondrously unpretentious 8...</td>\n",
       "      <td>superbly trashy and wondrously unpretentious 8...</td>\n",
       "    </tr>\n",
       "    <tr>\n",
       "      <th>...</th>\n",
       "      <td>...</td>\n",
       "      <td>...</td>\n",
       "      <td>...</td>\n",
       "      <td>...</td>\n",
       "    </tr>\n",
       "    <tr>\n",
       "      <th>24995</th>\n",
       "      <td>3453_3</td>\n",
       "      <td>0</td>\n",
       "      <td>It seems like more consideration has gone into...</td>\n",
       "      <td>it seems like more consideration has gone into...</td>\n",
       "    </tr>\n",
       "    <tr>\n",
       "      <th>24996</th>\n",
       "      <td>5064_1</td>\n",
       "      <td>0</td>\n",
       "      <td>I don't believe they made this film. Completel...</td>\n",
       "      <td>i dont believe they made this film completely ...</td>\n",
       "    </tr>\n",
       "    <tr>\n",
       "      <th>24997</th>\n",
       "      <td>10905_3</td>\n",
       "      <td>0</td>\n",
       "      <td>Guy is a loser. Can't get girls, needs to buil...</td>\n",
       "      <td>guy is a loser cant get girls needs to build u...</td>\n",
       "    </tr>\n",
       "    <tr>\n",
       "      <th>24998</th>\n",
       "      <td>10194_3</td>\n",
       "      <td>0</td>\n",
       "      <td>This 30 minute documentary Buñuel made in the ...</td>\n",
       "      <td>this 30 minute documentary bu uel made in the ...</td>\n",
       "    </tr>\n",
       "    <tr>\n",
       "      <th>24999</th>\n",
       "      <td>8478_8</td>\n",
       "      <td>1</td>\n",
       "      <td>I saw this movie as a child and it broke my he...</td>\n",
       "      <td>i saw this movie as a child and it broke my he...</td>\n",
       "    </tr>\n",
       "  </tbody>\n",
       "</table>\n",
       "<p>25000 rows × 4 columns</p>\n",
       "</div>"
      ],
      "text/plain": [
       "            id  sentiment                                             review  \\\n",
       "0       5814_8          1  With all this stuff going down at the moment w...   \n",
       "1       2381_9          1  \\The Classic War of the Worlds\\\" by Timothy Hi...   \n",
       "2       7759_3          0  The film starts with a manager (Nicholas Bell)...   \n",
       "3       3630_4          0  It must be assumed that those who praised this...   \n",
       "4       9495_8          1  Superbly trashy and wondrously unpretentious 8...   \n",
       "...        ...        ...                                                ...   \n",
       "24995   3453_3          0  It seems like more consideration has gone into...   \n",
       "24996   5064_1          0  I don't believe they made this film. Completel...   \n",
       "24997  10905_3          0  Guy is a loser. Can't get girls, needs to buil...   \n",
       "24998  10194_3          0  This 30 minute documentary Buñuel made in the ...   \n",
       "24999   8478_8          1  I saw this movie as a child and it broke my he...   \n",
       "\n",
       "                                          cleaned_review  \n",
       "0      with all this stuff going down at the moment w...  \n",
       "1      the classic war of the worlds by timothy hines...  \n",
       "2      the film starts with a manager nicholas bell g...  \n",
       "3      it must be assumed that those who praised this...  \n",
       "4      superbly trashy and wondrously unpretentious 8...  \n",
       "...                                                  ...  \n",
       "24995  it seems like more consideration has gone into...  \n",
       "24996  i dont believe they made this film completely ...  \n",
       "24997  guy is a loser cant get girls needs to build u...  \n",
       "24998  this 30 minute documentary bu uel made in the ...  \n",
       "24999  i saw this movie as a child and it broke my he...  \n",
       "\n",
       "[25000 rows x 4 columns]"
      ]
     },
     "execution_count": 9,
     "metadata": {},
     "output_type": "execute_result"
    }
   ],
   "source": [
    "movie_data"
   ]
  },
  {
   "cell_type": "markdown",
   "id": "0ed703ac",
   "metadata": {},
   "source": [
    " 3) Remove stop words"
   ]
  },
  {
   "cell_type": "code",
   "execution_count": 10,
   "id": "86e93a18",
   "metadata": {},
   "outputs": [],
   "source": [
    "# Exclude stopwords with Python's list comprehension and pandas.DataFrame.apply.\n",
    "stop = stopwords.words('english')\n",
    "movie_data['cleaned_review'] = movie_data['cleaned_review'].apply(lambda x: ' '.join([word for word in x.split() if word not in (stop)]))\n"
   ]
  },
  {
   "cell_type": "code",
   "execution_count": 11,
   "id": "141fe5b5",
   "metadata": {},
   "outputs": [
    {
     "data": {
      "text/html": [
       "<div>\n",
       "<style scoped>\n",
       "    .dataframe tbody tr th:only-of-type {\n",
       "        vertical-align: middle;\n",
       "    }\n",
       "\n",
       "    .dataframe tbody tr th {\n",
       "        vertical-align: top;\n",
       "    }\n",
       "\n",
       "    .dataframe thead th {\n",
       "        text-align: right;\n",
       "    }\n",
       "</style>\n",
       "<table border=\"1\" class=\"dataframe\">\n",
       "  <thead>\n",
       "    <tr style=\"text-align: right;\">\n",
       "      <th></th>\n",
       "      <th>id</th>\n",
       "      <th>sentiment</th>\n",
       "      <th>review</th>\n",
       "      <th>cleaned_review</th>\n",
       "    </tr>\n",
       "  </thead>\n",
       "  <tbody>\n",
       "    <tr>\n",
       "      <th>0</th>\n",
       "      <td>5814_8</td>\n",
       "      <td>1</td>\n",
       "      <td>With all this stuff going down at the moment w...</td>\n",
       "      <td>stuff going moment mj ive started listening mu...</td>\n",
       "    </tr>\n",
       "    <tr>\n",
       "      <th>1</th>\n",
       "      <td>2381_9</td>\n",
       "      <td>1</td>\n",
       "      <td>\\The Classic War of the Worlds\\\" by Timothy Hi...</td>\n",
       "      <td>classic war worlds timothy hines entertaining ...</td>\n",
       "    </tr>\n",
       "    <tr>\n",
       "      <th>2</th>\n",
       "      <td>7759_3</td>\n",
       "      <td>0</td>\n",
       "      <td>The film starts with a manager (Nicholas Bell)...</td>\n",
       "      <td>film starts manager nicholas bell giving welco...</td>\n",
       "    </tr>\n",
       "    <tr>\n",
       "      <th>3</th>\n",
       "      <td>3630_4</td>\n",
       "      <td>0</td>\n",
       "      <td>It must be assumed that those who praised this...</td>\n",
       "      <td>must assumed praised film greatest filmed oper...</td>\n",
       "    </tr>\n",
       "    <tr>\n",
       "      <th>4</th>\n",
       "      <td>9495_8</td>\n",
       "      <td>1</td>\n",
       "      <td>Superbly trashy and wondrously unpretentious 8...</td>\n",
       "      <td>superbly trashy wondrously unpretentious 80s e...</td>\n",
       "    </tr>\n",
       "  </tbody>\n",
       "</table>\n",
       "</div>"
      ],
      "text/plain": [
       "       id  sentiment                                             review  \\\n",
       "0  5814_8          1  With all this stuff going down at the moment w...   \n",
       "1  2381_9          1  \\The Classic War of the Worlds\\\" by Timothy Hi...   \n",
       "2  7759_3          0  The film starts with a manager (Nicholas Bell)...   \n",
       "3  3630_4          0  It must be assumed that those who praised this...   \n",
       "4  9495_8          1  Superbly trashy and wondrously unpretentious 8...   \n",
       "\n",
       "                                      cleaned_review  \n",
       "0  stuff going moment mj ive started listening mu...  \n",
       "1  classic war worlds timothy hines entertaining ...  \n",
       "2  film starts manager nicholas bell giving welco...  \n",
       "3  must assumed praised film greatest filmed oper...  \n",
       "4  superbly trashy wondrously unpretentious 80s e...  "
      ]
     },
     "execution_count": 11,
     "metadata": {},
     "output_type": "execute_result"
    }
   ],
   "source": [
    "movie_data.head(5)"
   ]
  },
  {
   "cell_type": "markdown",
   "id": "16114bba",
   "metadata": {},
   "source": [
    "    4) Apply NLTK’s PorterStemmer."
   ]
  },
  {
   "cell_type": "code",
   "execution_count": 12,
   "id": "01a4fb06",
   "metadata": {},
   "outputs": [],
   "source": [
    "porter_stemmer = PorterStemmer()\n",
    "movie_data[\"cleaned_review\"] = movie_data[\"cleaned_review\"].str.lower().map(porter_stemmer.stem)"
   ]
  },
  {
   "cell_type": "code",
   "execution_count": 13,
   "id": "f985d420",
   "metadata": {},
   "outputs": [
    {
     "data": {
      "text/html": [
       "<div>\n",
       "<style scoped>\n",
       "    .dataframe tbody tr th:only-of-type {\n",
       "        vertical-align: middle;\n",
       "    }\n",
       "\n",
       "    .dataframe tbody tr th {\n",
       "        vertical-align: top;\n",
       "    }\n",
       "\n",
       "    .dataframe thead th {\n",
       "        text-align: right;\n",
       "    }\n",
       "</style>\n",
       "<table border=\"1\" class=\"dataframe\">\n",
       "  <thead>\n",
       "    <tr style=\"text-align: right;\">\n",
       "      <th></th>\n",
       "      <th>id</th>\n",
       "      <th>sentiment</th>\n",
       "      <th>review</th>\n",
       "      <th>cleaned_review</th>\n",
       "    </tr>\n",
       "  </thead>\n",
       "  <tbody>\n",
       "    <tr>\n",
       "      <th>0</th>\n",
       "      <td>5814_8</td>\n",
       "      <td>1</td>\n",
       "      <td>With all this stuff going down at the moment w...</td>\n",
       "      <td>stuff going moment mj ive started listening mu...</td>\n",
       "    </tr>\n",
       "    <tr>\n",
       "      <th>1</th>\n",
       "      <td>2381_9</td>\n",
       "      <td>1</td>\n",
       "      <td>\\The Classic War of the Worlds\\\" by Timothy Hi...</td>\n",
       "      <td>classic war worlds timothy hines entertaining ...</td>\n",
       "    </tr>\n",
       "    <tr>\n",
       "      <th>2</th>\n",
       "      <td>7759_3</td>\n",
       "      <td>0</td>\n",
       "      <td>The film starts with a manager (Nicholas Bell)...</td>\n",
       "      <td>film starts manager nicholas bell giving welco...</td>\n",
       "    </tr>\n",
       "    <tr>\n",
       "      <th>3</th>\n",
       "      <td>3630_4</td>\n",
       "      <td>0</td>\n",
       "      <td>It must be assumed that those who praised this...</td>\n",
       "      <td>must assumed praised film greatest filmed oper...</td>\n",
       "    </tr>\n",
       "    <tr>\n",
       "      <th>4</th>\n",
       "      <td>9495_8</td>\n",
       "      <td>1</td>\n",
       "      <td>Superbly trashy and wondrously unpretentious 8...</td>\n",
       "      <td>superbly trashy wondrously unpretentious 80s e...</td>\n",
       "    </tr>\n",
       "    <tr>\n",
       "      <th>5</th>\n",
       "      <td>8196_8</td>\n",
       "      <td>1</td>\n",
       "      <td>I dont know why people think this is such a ba...</td>\n",
       "      <td>dont know people think bad movie got pretty go...</td>\n",
       "    </tr>\n",
       "    <tr>\n",
       "      <th>6</th>\n",
       "      <td>7166_2</td>\n",
       "      <td>0</td>\n",
       "      <td>This movie could have been very good, but come...</td>\n",
       "      <td>movie could good comes way short cheesy specia...</td>\n",
       "    </tr>\n",
       "    <tr>\n",
       "      <th>7</th>\n",
       "      <td>10633_1</td>\n",
       "      <td>0</td>\n",
       "      <td>I watched this video at a friend's house. I'm ...</td>\n",
       "      <td>watched video friends house im glad waste mone...</td>\n",
       "    </tr>\n",
       "    <tr>\n",
       "      <th>8</th>\n",
       "      <td>319_1</td>\n",
       "      <td>0</td>\n",
       "      <td>A friend of mine bought this film for £1, and ...</td>\n",
       "      <td>friend mine bought film 1 even grossly overpri...</td>\n",
       "    </tr>\n",
       "    <tr>\n",
       "      <th>9</th>\n",
       "      <td>8713_10</td>\n",
       "      <td>1</td>\n",
       "      <td>&lt;br /&gt;&lt;br /&gt;This movie is full of references. ...</td>\n",
       "      <td>br br movie full references like mad max ii wi...</td>\n",
       "    </tr>\n",
       "  </tbody>\n",
       "</table>\n",
       "</div>"
      ],
      "text/plain": [
       "        id  sentiment                                             review  \\\n",
       "0   5814_8          1  With all this stuff going down at the moment w...   \n",
       "1   2381_9          1  \\The Classic War of the Worlds\\\" by Timothy Hi...   \n",
       "2   7759_3          0  The film starts with a manager (Nicholas Bell)...   \n",
       "3   3630_4          0  It must be assumed that those who praised this...   \n",
       "4   9495_8          1  Superbly trashy and wondrously unpretentious 8...   \n",
       "5   8196_8          1  I dont know why people think this is such a ba...   \n",
       "6   7166_2          0  This movie could have been very good, but come...   \n",
       "7  10633_1          0  I watched this video at a friend's house. I'm ...   \n",
       "8    319_1          0  A friend of mine bought this film for £1, and ...   \n",
       "9  8713_10          1  <br /><br />This movie is full of references. ...   \n",
       "\n",
       "                                      cleaned_review  \n",
       "0  stuff going moment mj ive started listening mu...  \n",
       "1  classic war worlds timothy hines entertaining ...  \n",
       "2  film starts manager nicholas bell giving welco...  \n",
       "3  must assumed praised film greatest filmed oper...  \n",
       "4  superbly trashy wondrously unpretentious 80s e...  \n",
       "5  dont know people think bad movie got pretty go...  \n",
       "6  movie could good comes way short cheesy specia...  \n",
       "7  watched video friends house im glad waste mone...  \n",
       "8  friend mine bought film 1 even grossly overpri...  \n",
       "9  br br movie full references like mad max ii wi...  "
      ]
     },
     "execution_count": 13,
     "metadata": {},
     "output_type": "execute_result"
    }
   ],
   "source": [
    "movie_data.head(10)"
   ]
  },
  {
   "cell_type": "code",
   "execution_count": 14,
   "id": "fdfdd6f1",
   "metadata": {},
   "outputs": [],
   "source": [
    "#Copy all the predictor variables in X dataframe.\n",
    "X = movie_data[[\"id\",\"cleaned_review\"]]\n",
    "##since sentiment is the dependent(target) variable so take it in y dataframe\n",
    "Y = movie_data[[\"sentiment\"]]"
   ]
  },
  {
   "cell_type": "code",
   "execution_count": 15,
   "id": "7eb43844",
   "metadata": {},
   "outputs": [
    {
     "data": {
      "text/plain": [
       "(25000, 2)"
      ]
     },
     "execution_count": 15,
     "metadata": {},
     "output_type": "execute_result"
    }
   ],
   "source": [
    "X.shape"
   ]
  },
  {
   "cell_type": "code",
   "execution_count": 16,
   "id": "ad403d80",
   "metadata": {},
   "outputs": [
    {
     "data": {
      "text/plain": [
       "(25000, 1)"
      ]
     },
     "execution_count": 16,
     "metadata": {},
     "output_type": "execute_result"
    }
   ],
   "source": [
    "Y.shape"
   ]
  },
  {
   "cell_type": "code",
   "execution_count": 17,
   "id": "97706ab7",
   "metadata": {},
   "outputs": [],
   "source": [
    "#split the data into training and test dataset\n",
    "X_train,X_test,Y_train,Y_test = train_test_split(X,Y, train_size= 0.8, test_size=0.2,random_state=10)\n",
    "#random state can be any number, it will keep the random sample data same irrecpective of multiple runs."
   ]
  },
  {
   "cell_type": "code",
   "execution_count": 18,
   "id": "b5887d4c",
   "metadata": {},
   "outputs": [
    {
     "data": {
      "text/plain": [
       "(20000, 2)"
      ]
     },
     "execution_count": 18,
     "metadata": {},
     "output_type": "execute_result"
    }
   ],
   "source": [
    "X_train.shape"
   ]
  },
  {
   "cell_type": "code",
   "execution_count": 19,
   "id": "4c25ce78",
   "metadata": {},
   "outputs": [
    {
     "data": {
      "text/plain": [
       "(5000, 2)"
      ]
     },
     "execution_count": 19,
     "metadata": {},
     "output_type": "execute_result"
    }
   ],
   "source": [
    "X_test.shape"
   ]
  },
  {
   "cell_type": "code",
   "execution_count": 20,
   "id": "e45c5137",
   "metadata": {},
   "outputs": [
    {
     "data": {
      "text/html": [
       "<div>\n",
       "<style scoped>\n",
       "    .dataframe tbody tr th:only-of-type {\n",
       "        vertical-align: middle;\n",
       "    }\n",
       "\n",
       "    .dataframe tbody tr th {\n",
       "        vertical-align: top;\n",
       "    }\n",
       "\n",
       "    .dataframe thead th {\n",
       "        text-align: right;\n",
       "    }\n",
       "</style>\n",
       "<table border=\"1\" class=\"dataframe\">\n",
       "  <thead>\n",
       "    <tr style=\"text-align: right;\">\n",
       "      <th></th>\n",
       "      <th>id</th>\n",
       "      <th>cleaned_review</th>\n",
       "    </tr>\n",
       "  </thead>\n",
       "  <tbody>\n",
       "    <tr>\n",
       "      <th>18634</th>\n",
       "      <td>8913_9</td>\n",
       "      <td>favorite classic filmed little west philadelph...</td>\n",
       "    </tr>\n",
       "    <tr>\n",
       "      <th>1333</th>\n",
       "      <td>2429_8</td>\n",
       "      <td>loved deep cover might like film well many poe...</td>\n",
       "    </tr>\n",
       "    <tr>\n",
       "      <th>20315</th>\n",
       "      <td>8470_2</td>\n",
       "      <td>watch lots scary movies least try worst 2nd wo...</td>\n",
       "    </tr>\n",
       "    <tr>\n",
       "      <th>6357</th>\n",
       "      <td>4076_1</td>\n",
       "      <td>subject matter deserves much better script fin...</td>\n",
       "    </tr>\n",
       "    <tr>\n",
       "      <th>10496</th>\n",
       "      <td>4425_7</td>\n",
       "      <td>another attempt modern japanese directors rede...</td>\n",
       "    </tr>\n",
       "    <tr>\n",
       "      <th>...</th>\n",
       "      <td>...</td>\n",
       "      <td>...</td>\n",
       "    </tr>\n",
       "    <tr>\n",
       "      <th>9395</th>\n",
       "      <td>8108_3</td>\n",
       "      <td>reading book lot meaning movie didnt give feel...</td>\n",
       "    </tr>\n",
       "    <tr>\n",
       "      <th>15688</th>\n",
       "      <td>4446_3</td>\n",
       "      <td>serum starts credits quite reminiscent reanima...</td>\n",
       "    </tr>\n",
       "    <tr>\n",
       "      <th>7403</th>\n",
       "      <td>664_2</td>\n",
       "      <td>im particularly fond remakes steal modern jarg...</td>\n",
       "    </tr>\n",
       "    <tr>\n",
       "      <th>6369</th>\n",
       "      <td>6988_10</td>\n",
       "      <td>one movie take time get head seen dialogs clos...</td>\n",
       "    </tr>\n",
       "    <tr>\n",
       "      <th>15252</th>\n",
       "      <td>6040_1</td>\n",
       "      <td>start movie started badly ended badly consists...</td>\n",
       "    </tr>\n",
       "  </tbody>\n",
       "</table>\n",
       "<p>5000 rows × 2 columns</p>\n",
       "</div>"
      ],
      "text/plain": [
       "            id                                     cleaned_review\n",
       "18634   8913_9  favorite classic filmed little west philadelph...\n",
       "1333    2429_8  loved deep cover might like film well many poe...\n",
       "20315   8470_2  watch lots scary movies least try worst 2nd wo...\n",
       "6357    4076_1  subject matter deserves much better script fin...\n",
       "10496   4425_7  another attempt modern japanese directors rede...\n",
       "...        ...                                                ...\n",
       "9395    8108_3  reading book lot meaning movie didnt give feel...\n",
       "15688   4446_3  serum starts credits quite reminiscent reanima...\n",
       "7403     664_2  im particularly fond remakes steal modern jarg...\n",
       "6369   6988_10  one movie take time get head seen dialogs clos...\n",
       "15252   6040_1  start movie started badly ended badly consists...\n",
       "\n",
       "[5000 rows x 2 columns]"
      ]
     },
     "execution_count": 20,
     "metadata": {},
     "output_type": "execute_result"
    }
   ],
   "source": [
    "X_test"
   ]
  },
  {
   "cell_type": "markdown",
   "id": "782f0308",
   "metadata": {},
   "source": [
    "# 3) Fit and apply the tf-idf vectorization to the training set."
   ]
  },
  {
   "cell_type": "code",
   "execution_count": 21,
   "id": "7c2c879f",
   "metadata": {},
   "outputs": [
    {
     "name": "stdout",
     "output_type": "stream",
     "text": [
      "Creating the bag of words...\n",
      "\n"
     ]
    }
   ],
   "source": [
    "print (\"Creating the bag of words...\\n\")\n",
    "\n",
    "\n",
    "# Initialize the \"CountVectorizer\" object, which is scikit-learn's\n",
    "# bag of words tool.  \n",
    "count_vectorizer = CountVectorizer() \n",
    "\n",
    "# fit_transform() does two functions: First, it fits the model\n",
    "# and learns the vocabulary; second, it transforms our training data\n",
    "# into feature vectors. \n",
    "\n",
    "train_data_bagofwords = count_vectorizer.fit_transform(X_train[\"cleaned_review\"])"
   ]
  },
  {
   "cell_type": "code",
   "execution_count": 22,
   "id": "dffb5fd9",
   "metadata": {},
   "outputs": [
    {
     "data": {
      "text/plain": [
       "<20000x107669 sparse matrix of type '<class 'numpy.int64'>'\n",
       "\twith 2030881 stored elements in Compressed Sparse Row format>"
      ]
     },
     "execution_count": 22,
     "metadata": {},
     "output_type": "execute_result"
    }
   ],
   "source": [
    "train_data_bagofwords"
   ]
  },
  {
   "cell_type": "code",
   "execution_count": 23,
   "id": "3b2a4880",
   "metadata": {},
   "outputs": [],
   "source": [
    "from sklearn.feature_extraction.text import TfidfVectorizer\n",
    "vectorizer = TfidfVectorizer()\n",
    "#Use the TF-IDF class to train the same corpus above\n",
    "train_data_review = vectorizer.fit_transform(X_train['cleaned_review'])"
   ]
  },
  {
   "cell_type": "code",
   "execution_count": 24,
   "id": "391bc793",
   "metadata": {},
   "outputs": [
    {
     "data": {
      "text/plain": [
       "<20000x107669 sparse matrix of type '<class 'numpy.float64'>'\n",
       "\twith 2030881 stored elements in Compressed Sparse Row format>"
      ]
     },
     "execution_count": 24,
     "metadata": {},
     "output_type": "execute_result"
    }
   ],
   "source": [
    "train_data_review"
   ]
  },
  {
   "cell_type": "markdown",
   "id": "86b70962",
   "metadata": {},
   "source": [
    "# 4) Apply but DO NOT FIT the tf-idf vectorization to the test set (Why?)."
   ]
  },
  {
   "cell_type": "code",
   "execution_count": 25,
   "id": "e68e1344",
   "metadata": {},
   "outputs": [],
   "source": [
    "test_data_bagofwords = count_vectorizer.fit_transform(X_test[\"cleaned_review\"])"
   ]
  },
  {
   "cell_type": "code",
   "execution_count": 26,
   "id": "7a63abea",
   "metadata": {},
   "outputs": [
    {
     "data": {
      "text/plain": [
       "(5000, 52087)"
      ]
     },
     "execution_count": 26,
     "metadata": {},
     "output_type": "execute_result"
    }
   ],
   "source": [
    "test_data_bagofwords.shape"
   ]
  },
  {
   "cell_type": "markdown",
   "id": "8ddd4568",
   "metadata": {},
   "source": [
    "It seems not to make sense to include the test corpus when training the model, since it is not supervised and the size is of test data is alos very small, it is also possible to train it on the whole corpus."
   ]
  },
  {
   "cell_type": "markdown",
   "id": "816a8cb0",
   "metadata": {},
   "source": [
    "# 5)Train a logistic regression using the training data.\n"
   ]
  },
  {
   "cell_type": "code",
   "execution_count": 27,
   "id": "bd28b277",
   "metadata": {},
   "outputs": [
    {
     "data": {
      "text/plain": [
       "LogisticRegression(multi_class='multinomial', random_state=0)"
      ]
     },
     "execution_count": 27,
     "metadata": {},
     "output_type": "execute_result"
    }
   ],
   "source": [
    "# Import the logistic regression model from sklearn \n",
    "from sklearn.linear_model import LogisticRegression\n",
    "\n",
    "# Define the model\n",
    "model = LogisticRegression(random_state=0, solver='lbfgs',\n",
    "                            multi_class='multinomial')\n",
    "# Train model\n",
    "model=model.fit(train_data_review, Y_train[\"sentiment\"])\n",
    "model"
   ]
  },
  {
   "cell_type": "markdown",
   "id": "976cd5e7",
   "metadata": {},
   "source": [
    "# 6) Find the model accuracy on test set."
   ]
  },
  {
   "cell_type": "code",
   "execution_count": 28,
   "id": "49cc4c33",
   "metadata": {},
   "outputs": [],
   "source": [
    "# Create the test data reviews\n",
    "test_data_review = vectorizer.transform(X_test['cleaned_review'])\n",
    "\n",
    "\n",
    "# Use the logistic regression model to make sentiment label predictions\n",
    "lr_sentiment = model.predict(test_data_review)"
   ]
  },
  {
   "cell_type": "code",
   "execution_count": 29,
   "id": "a3d1992c",
   "metadata": {},
   "outputs": [
    {
     "data": {
      "text/plain": [
       "array([1, 1, 0, ..., 0, 1, 0], dtype=int64)"
      ]
     },
     "execution_count": 29,
     "metadata": {},
     "output_type": "execute_result"
    }
   ],
   "source": [
    "lr_sentiment"
   ]
  },
  {
   "cell_type": "code",
   "execution_count": 30,
   "id": "c6087fa3",
   "metadata": {},
   "outputs": [
    {
     "data": {
      "text/plain": [
       "(5000,)"
      ]
     },
     "execution_count": 30,
     "metadata": {},
     "output_type": "execute_result"
    }
   ],
   "source": [
    "lr_sentiment.shape"
   ]
  },
  {
   "cell_type": "code",
   "execution_count": 31,
   "id": "b4ecdb6a",
   "metadata": {},
   "outputs": [
    {
     "data": {
      "text/html": [
       "<div>\n",
       "<style scoped>\n",
       "    .dataframe tbody tr th:only-of-type {\n",
       "        vertical-align: middle;\n",
       "    }\n",
       "\n",
       "    .dataframe tbody tr th {\n",
       "        vertical-align: top;\n",
       "    }\n",
       "\n",
       "    .dataframe thead th {\n",
       "        text-align: right;\n",
       "    }\n",
       "</style>\n",
       "<table border=\"1\" class=\"dataframe\">\n",
       "  <thead>\n",
       "    <tr style=\"text-align: right;\">\n",
       "      <th></th>\n",
       "      <th>id</th>\n",
       "      <th>lr_sentiment</th>\n",
       "      <th>sentiment</th>\n",
       "    </tr>\n",
       "  </thead>\n",
       "  <tbody>\n",
       "    <tr>\n",
       "      <th>18634</th>\n",
       "      <td>8913_9</td>\n",
       "      <td>1</td>\n",
       "      <td>1</td>\n",
       "    </tr>\n",
       "    <tr>\n",
       "      <th>1333</th>\n",
       "      <td>2429_8</td>\n",
       "      <td>1</td>\n",
       "      <td>1</td>\n",
       "    </tr>\n",
       "    <tr>\n",
       "      <th>20315</th>\n",
       "      <td>8470_2</td>\n",
       "      <td>0</td>\n",
       "      <td>0</td>\n",
       "    </tr>\n",
       "    <tr>\n",
       "      <th>6357</th>\n",
       "      <td>4076_1</td>\n",
       "      <td>0</td>\n",
       "      <td>0</td>\n",
       "    </tr>\n",
       "    <tr>\n",
       "      <th>10496</th>\n",
       "      <td>4425_7</td>\n",
       "      <td>1</td>\n",
       "      <td>1</td>\n",
       "    </tr>\n",
       "  </tbody>\n",
       "</table>\n",
       "</div>"
      ],
      "text/plain": [
       "           id  lr_sentiment  sentiment\n",
       "18634  8913_9             1          1\n",
       "1333   2429_8             1          1\n",
       "20315  8470_2             0          0\n",
       "6357   4076_1             0          0\n",
       "10496  4425_7             1          1"
      ]
     },
     "execution_count": 31,
     "metadata": {},
     "output_type": "execute_result"
    }
   ],
   "source": [
    "# Copy the results to a pandas dataframe with an \"id\" column and alr_sentiment \"sentiment\" column\n",
    "movie_pred_df = pd.DataFrame(data={\"id\":X_test[\"id\"],\"lr_sentiment\":lr_sentiment,\"sentiment\":Y_test[\"sentiment\"]})\n",
    "movie_pred_df.head()"
   ]
  },
  {
   "cell_type": "code",
   "execution_count": 32,
   "id": "118c2592",
   "metadata": {},
   "outputs": [
    {
     "name": "stdout",
     "output_type": "stream",
     "text": [
      "The percententage of Positive sentiment calculated : 2570\n",
      "The percententage of Negative sentiment calculated : 2430\n"
     ]
    }
   ],
   "source": [
    "print(f\"The percententage of Positive sentiment calculated :\",sum(movie_pred_df[\"lr_sentiment\"] > 0))\n",
    "print(f\"The percententage of Negative sentiment calculated :\",sum(movie_pred_df[\"lr_sentiment\"] == 0))"
   ]
  },
  {
   "cell_type": "code",
   "execution_count": 33,
   "id": "5486abd1",
   "metadata": {},
   "outputs": [
    {
     "name": "stdout",
     "output_type": "stream",
     "text": [
      "The percententage of Positive sentiment from raw data: 2512\n",
      "The percententage of Negative sentiment from raw data : 2488\n"
     ]
    }
   ],
   "source": [
    "print(f\"The percententage of Positive sentiment from raw data:\",sum(movie_pred_df[\"sentiment\"] > 0))\n",
    "print(f\"The percententage of Negative sentiment from raw data :\",sum(movie_pred_df[\"sentiment\"] == 0))"
   ]
  },
  {
   "cell_type": "code",
   "execution_count": 34,
   "id": "76fa4b83",
   "metadata": {},
   "outputs": [],
   "source": [
    "# Find the positive and negitive percentage of sentiment and logical regression sentiment\n",
    "\n",
    "vador_accuracy_positive= sum((movie_pred_df['sentiment'] > 0) & (movie_pred_df['lr_sentiment'] > 0))\n",
    "vador_accuracy_negitive= sum((movie_pred_df['sentiment'] == 0) & (movie_pred_df['lr_sentiment'] == 0))"
   ]
  },
  {
   "cell_type": "code",
   "execution_count": 35,
   "id": "34ea3739",
   "metadata": {},
   "outputs": [
    {
     "data": {
      "text/plain": [
       "2283"
      ]
     },
     "execution_count": 35,
     "metadata": {},
     "output_type": "execute_result"
    }
   ],
   "source": [
    "vador_accuracy_positive"
   ]
  },
  {
   "cell_type": "code",
   "execution_count": 36,
   "id": "92d63929",
   "metadata": {},
   "outputs": [
    {
     "data": {
      "text/plain": [
       "2201"
      ]
     },
     "execution_count": 36,
     "metadata": {},
     "output_type": "execute_result"
    }
   ],
   "source": [
    "vador_accuracy_negitive"
   ]
  },
  {
   "cell_type": "code",
   "execution_count": 37,
   "id": "e01de191",
   "metadata": {},
   "outputs": [
    {
     "data": {
      "text/plain": [
       "4484"
      ]
     },
     "execution_count": 37,
     "metadata": {},
     "output_type": "execute_result"
    }
   ],
   "source": [
    "vador_total_reviews = vador_accuracy_positive+vador_accuracy_negitive\n",
    "vador_total_reviews"
   ]
  },
  {
   "cell_type": "markdown",
   "id": "4a4e48f5",
   "metadata": {},
   "source": [
    "4484/5000=0.8968*100 = 89.68%, out of 5000 samples, The percentage of accuracy of the logical regression model is 89.68%, \n",
    "so the model we choose is accurate rather than going with the assumption of 50% random prediction."
   ]
  },
  {
   "cell_type": "markdown",
   "id": "0190614e",
   "metadata": {},
   "source": [
    "# 7) Create a confusion matrix for the test set predictions"
   ]
  },
  {
   "cell_type": "code",
   "execution_count": 38,
   "id": "11f01909",
   "metadata": {
    "scrolled": true
   },
   "outputs": [
    {
     "name": "stdout",
     "output_type": "stream",
     "text": [
      "Predicted     0     1\n",
      "Actual               \n",
      "0          2201   287\n",
      "1           229  2283\n"
     ]
    }
   ],
   "source": [
    "from sklearn.metrics import confusion_matrix, plot_confusion_matrix\n",
    "#To create the Confusion Matrix using pandas, we need to apply the pd.crosstab :\n",
    "confusion_matrix = pd.crosstab(movie_pred_df['sentiment'], movie_pred_df['lr_sentiment'], rownames=['Actual'], colnames=['Predicted'])\n",
    "print (confusion_matrix)"
   ]
  },
  {
   "cell_type": "markdown",
   "id": "ca95af83",
   "metadata": {},
   "source": [
    "# 8) Get the precision, recall, and F1-score for the test set predictions."
   ]
  },
  {
   "cell_type": "markdown",
   "id": "9d9e34a9",
   "metadata": {},
   "source": [
    "Precision Score = TP / (FP + TP) = 2283/(287+2283) = 0.888                                        \n",
    "Recall Score = TP / (FN + TP) = 2283/(229+2283) = 0.908                                              \n",
    "F1 Score = 2 * Precision Score * Recall Score/ (Precision Score + Recall Score/)                       \n",
    "= 2 * 0.888 * 0.908 / (0.888 + 0.908) = 1.612/1.796 = 0.897"
   ]
  },
  {
   "cell_type": "markdown",
   "id": "6d147b4f",
   "metadata": {},
   "source": [
    "# 9) Create a ROC curve for the test set."
   ]
  },
  {
   "cell_type": "code",
   "execution_count": 39,
   "id": "39f0efea",
   "metadata": {},
   "outputs": [
    {
     "data": {
      "image/png": "[encoded data removed]",
      "text/plain": [
       "<Figure size 432x288 with 1 Axes>"
      ]
     },
     "metadata": {
      "needs_background": "light"
     },
     "output_type": "display_data"
    }
   ],
   "source": [
    "#ROC Curve for Logistic Regression\n",
    "pred_label = zip([lr_sentiment], \"LR\")\n",
    "for y_prediction, lable in pred_label:\n",
    "    fpr, tpr, _ = roc_curve(Y_test, y_prediction)\n",
    "    plt.plot(fpr, tpr, label = lable)\n",
    "#create ROC curve\n",
    "plt.xlabel(\"True Postive Rate\")\n",
    "plt.ylabel(\"False Positive Rate\")\n",
    "plt.title(\"ROC Curve LR Model\") \n",
    "plt.legend()\n",
    "plt.show()\n"
   ]
  },
  {
   "cell_type": "markdown",
   "id": "1aa052d5",
   "metadata": {},
   "source": [
    "# 10)Pick another classification model you learned about this week and repeat steps (5) – (9).#"
   ]
  },
  {
   "cell_type": "code",
   "execution_count": 42,
   "id": "3caf00af",
   "metadata": {},
   "outputs": [
    {
     "data": {
      "text/plain": [
       "array([1, 1, 0, ..., 0, 1, 0], dtype=int64)"
      ]
     },
     "execution_count": 42,
     "metadata": {},
     "output_type": "execute_result"
    }
   ],
   "source": [
    "# Applying MultinomialNaiveBayes for classification \n",
    "\n",
    "naive = MultinomialNB()\n",
    "classifier = naive.fit(train_data_review, Y_train[\"sentiment\"])\n",
    "predict = classifier.predict(test_data_review)\n",
    "\n",
    "predict"
   ]
  },
  {
   "cell_type": "markdown",
   "id": "ae9ccd80",
   "metadata": {},
   "source": [
    "# Repeat step 5"
   ]
  },
  {
   "cell_type": "code",
   "execution_count": 43,
   "id": "bbf5ea5f",
   "metadata": {},
   "outputs": [
    {
     "data": {
      "text/plain": [
       "LogisticRegression(multi_class='multinomial', random_state=0)"
      ]
     },
     "execution_count": 43,
     "metadata": {},
     "output_type": "execute_result"
    }
   ],
   "source": [
    "# Import the logistic regression model from sklearn \n",
    "from sklearn.linear_model import LogisticRegression\n",
    "\n",
    "# Define the model\n",
    "model = LogisticRegression(random_state=0, solver='lbfgs',\n",
    "                            multi_class='multinomial')\n",
    "# Train model\n",
    "model=model.fit(train_data_review, Y_train[\"sentiment\"])\n",
    "model"
   ]
  },
  {
   "cell_type": "markdown",
   "id": "3d39a435",
   "metadata": {},
   "source": [
    "# Repeat step 6"
   ]
  },
  {
   "cell_type": "code",
   "execution_count": 44,
   "id": "a0a13ddd",
   "metadata": {},
   "outputs": [],
   "source": [
    "test_data_review1 = vectorizer.transform(X_test['cleaned_review'])\n",
    "\n",
    "#Find the model accuracy on test set.\n",
    "# Use the logistic regression model to make sentiment label predictions\n",
    "lr_sentiment_1 = model.predict(test_data_review)"
   ]
  },
  {
   "cell_type": "code",
   "execution_count": 45,
   "id": "9f4cace6",
   "metadata": {},
   "outputs": [
    {
     "data": {
      "text/html": [
       "<div>\n",
       "<style scoped>\n",
       "    .dataframe tbody tr th:only-of-type {\n",
       "        vertical-align: middle;\n",
       "    }\n",
       "\n",
       "    .dataframe tbody tr th {\n",
       "        vertical-align: top;\n",
       "    }\n",
       "\n",
       "    .dataframe thead th {\n",
       "        text-align: right;\n",
       "    }\n",
       "</style>\n",
       "<table border=\"1\" class=\"dataframe\">\n",
       "  <thead>\n",
       "    <tr style=\"text-align: right;\">\n",
       "      <th></th>\n",
       "      <th>id</th>\n",
       "      <th>nv_sentiment</th>\n",
       "      <th>sentiment</th>\n",
       "    </tr>\n",
       "  </thead>\n",
       "  <tbody>\n",
       "    <tr>\n",
       "      <th>18634</th>\n",
       "      <td>8913_9</td>\n",
       "      <td>1</td>\n",
       "      <td>1</td>\n",
       "    </tr>\n",
       "    <tr>\n",
       "      <th>1333</th>\n",
       "      <td>2429_8</td>\n",
       "      <td>1</td>\n",
       "      <td>1</td>\n",
       "    </tr>\n",
       "    <tr>\n",
       "      <th>20315</th>\n",
       "      <td>8470_2</td>\n",
       "      <td>0</td>\n",
       "      <td>0</td>\n",
       "    </tr>\n",
       "    <tr>\n",
       "      <th>6357</th>\n",
       "      <td>4076_1</td>\n",
       "      <td>0</td>\n",
       "      <td>0</td>\n",
       "    </tr>\n",
       "    <tr>\n",
       "      <th>10496</th>\n",
       "      <td>4425_7</td>\n",
       "      <td>1</td>\n",
       "      <td>1</td>\n",
       "    </tr>\n",
       "  </tbody>\n",
       "</table>\n",
       "</div>"
      ],
      "text/plain": [
       "           id  nv_sentiment  sentiment\n",
       "18634  8913_9             1          1\n",
       "1333   2429_8             1          1\n",
       "20315  8470_2             0          0\n",
       "6357   4076_1             0          0\n",
       "10496  4425_7             1          1"
      ]
     },
     "execution_count": 45,
     "metadata": {},
     "output_type": "execute_result"
    }
   ],
   "source": [
    "# Copy the results to a pandas dataframe with an \"id\" column and alr_sentiment \"sentiment\" column\n",
    "movie_pred_df1 = pd.DataFrame(data={\"id\":X_test[\"id\"],\"nv_sentiment\":predict,\"sentiment\":Y_test[\"sentiment\"]})\n",
    "movie_pred_df1.head()"
   ]
  },
  {
   "cell_type": "code",
   "execution_count": 46,
   "id": "7307d83a",
   "metadata": {},
   "outputs": [
    {
     "name": "stdout",
     "output_type": "stream",
     "text": [
      "The percententage of Positive sentiment calculated : 2417\n",
      "The percententage of Negative sentiment calculated : 2583\n"
     ]
    }
   ],
   "source": [
    "print(f\"The percententage of Positive sentiment calculated :\",sum(movie_pred_df1[\"nv_sentiment\"] > 0))\n",
    "print(f\"The percententage of Negative sentiment calculated :\",sum(movie_pred_df1[\"nv_sentiment\"] == 0))"
   ]
  },
  {
   "cell_type": "code",
   "execution_count": 47,
   "id": "98294965",
   "metadata": {},
   "outputs": [
    {
     "name": "stdout",
     "output_type": "stream",
     "text": [
      "The percententage of Positive sentiment from raw data: 2512\n",
      "The percententage of Negative sentiment from raw data : 2488\n"
     ]
    }
   ],
   "source": [
    "print(f\"The percententage of Positive sentiment from raw data:\",sum(movie_pred_df1[\"sentiment\"] > 0))\n",
    "print(f\"The percententage of Negative sentiment from raw data :\",sum(movie_pred_df1[\"sentiment\"] == 0))"
   ]
  },
  {
   "cell_type": "code",
   "execution_count": 48,
   "id": "855e64b6",
   "metadata": {},
   "outputs": [],
   "source": [
    "# Find the positive and negitive percentage of sentiment and logical regression sentiment\n",
    "\n",
    "vador_accuracy_positive1= sum((movie_pred_df1['sentiment'] > 0) & (movie_pred_df1['nv_sentiment'] > 0))\n",
    "vador_accuracy_negitive1= sum((movie_pred_df1['sentiment'] == 0) & (movie_pred_df1['nv_sentiment'] == 0))"
   ]
  },
  {
   "cell_type": "code",
   "execution_count": 49,
   "id": "03af0df8",
   "metadata": {},
   "outputs": [
    {
     "data": {
      "text/plain": [
       "2136"
      ]
     },
     "execution_count": 49,
     "metadata": {},
     "output_type": "execute_result"
    }
   ],
   "source": [
    "vador_accuracy_positive1"
   ]
  },
  {
   "cell_type": "code",
   "execution_count": 50,
   "id": "bfbcf9cd",
   "metadata": {},
   "outputs": [
    {
     "data": {
      "text/plain": [
       "2207"
      ]
     },
     "execution_count": 50,
     "metadata": {},
     "output_type": "execute_result"
    }
   ],
   "source": [
    "vador_accuracy_negitive1"
   ]
  },
  {
   "cell_type": "code",
   "execution_count": 51,
   "id": "d1ea7a16",
   "metadata": {},
   "outputs": [
    {
     "data": {
      "text/plain": [
       "4343"
      ]
     },
     "execution_count": 51,
     "metadata": {},
     "output_type": "execute_result"
    }
   ],
   "source": [
    "vador_total_reviews1 = vador_accuracy_positive1+vador_accuracy_negitive1\n",
    "vador_total_reviews1"
   ]
  },
  {
   "cell_type": "markdown",
   "id": "dc2be336",
   "metadata": {},
   "source": [
    "4343/5000=0.8686*100 = 86.86%, out of 5000 samples, The percentage of accuracy of the logical regression model is 86.86%, \n",
    "so the model we choose is accurate rather than going with the assumption of 50% random prediction."
   ]
  },
  {
   "cell_type": "markdown",
   "id": "eadc7009",
   "metadata": {},
   "source": [
    "# Repeat Step 7"
   ]
  },
  {
   "cell_type": "code",
   "execution_count": 52,
   "id": "2a10ad59",
   "metadata": {},
   "outputs": [
    {
     "name": "stdout",
     "output_type": "stream",
     "text": [
      "Predicted     0     1\n",
      "Actual               \n",
      "0          2207   281\n",
      "1           376  2136\n"
     ]
    }
   ],
   "source": [
    "from sklearn.metrics import confusion_matrix, plot_confusion_matrix\n",
    "#To create the Confusion Matrix using pandas, we need to apply the pd.crosstab :\n",
    "confusion_matrix = pd.crosstab(movie_pred_df1['sentiment'], movie_pred_df1['nv_sentiment'], rownames=['Actual'], colnames=['Predicted'])\n",
    "print (confusion_matrix)"
   ]
  },
  {
   "cell_type": "markdown",
   "id": "44c2b5ba",
   "metadata": {},
   "source": [
    "# Repeat Step 8"
   ]
  },
  {
   "cell_type": "markdown",
   "id": "ce3694c5",
   "metadata": {},
   "source": [
    "Precision Score = TP / (FP + TP) = 2136/(281+2136) = 0.883                                        \n",
    "Recall Score = TP / (FN + TP) = 2136/(376+2136) = 0.850                                              \n",
    "F1 Score = 2 * Precision Score * Recall Score/ (Precision Score + Recall Score/)                       \n",
    "= 2 * 0.883 * 0.850 / (0.883 + 0.850) = 1.501/1.733 = 0.866"
   ]
  },
  {
   "cell_type": "markdown",
   "id": "e07ffa65",
   "metadata": {},
   "source": [
    "# Repeat Step 9:"
   ]
  },
  {
   "cell_type": "code",
   "execution_count": 54,
   "id": "98f686e7",
   "metadata": {},
   "outputs": [
    {
     "data": {
      "image/png": "[encoded data removed]",
      "text/plain": [
       "<Figure size 432x288 with 1 Axes>"
      ]
     },
     "metadata": {
      "needs_background": "light"
     },
     "output_type": "display_data"
    }
   ],
   "source": [
    "#ROC Curve for Logistic Regression\n",
    "pred_label = zip([predict], \"LR\")\n",
    "for y_prediction, lable in pred_label:\n",
    "    fpr, tpr, _ = roc_curve(Y_test, y_prediction)\n",
    "    plt.plot(fpr, tpr, label = lable)\n",
    "#create ROC curve\n",
    "plt.xlabel(\"True Postive Rate\")\n",
    "plt.ylabel(\"False Positive Rate\")\n",
    "plt.title(\"ROC Curve LR Model\") \n",
    "plt.legend()\n",
    "plt.show()\n"
   ]
  }
 ],
 "metadata": {
  "kernelspec": {
   "display_name": "Python 3 (ipykernel)",
   "language": "python",
   "name": "python3"
  },
  "language_info": {
   "codemirror_mode": {
    "name": "ipython",
    "version": 3
   },
   "file_extension": ".py",
   "mimetype": "text/x-python",
   "name": "python",
   "nbconvert_exporter": "python",
   "pygments_lexer": "ipython3",
   "version": "3.9.12"
  }
 },
 "nbformat": 4,
 "nbformat_minor": 5
}
